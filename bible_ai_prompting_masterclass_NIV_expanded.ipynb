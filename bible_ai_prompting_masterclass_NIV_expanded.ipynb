{
 "cells": [
  {
   "cell_type": "markdown",
   "id": "db85f349",
   "metadata": {},
   "source": [
    "# 🌟 Learning the Bible with AI — Prompting Masterclass\n",
    "Welcome! This Colab notebook teaches **prompt engineering** *through* Bible study.  \n",
    "You'll practice 7 prompting techniques and see how each changes the quality of results."
   ]
  },
  {
   "cell_type": "markdown",
   "id": "e4b12bc1",
   "metadata": {},
   "source": [
    "## 0) Setup\n",
    "Run to install/configure the OpenAI client. Change the model if needed (e.g., `gpt-5`, `gpt-4o`)."
   ]
  },
  {
   "cell_type": "code",
   "execution_count": null,
   "id": "f5e10074",
   "metadata": {},
   "outputs": [],
   "source": [
    "\n",
    "# If running on Colab, you may need:\n",
    "# !pip -q install --upgrade openai\n",
    "\n",
    "import os, getpass, json, datetime\n",
    "\n",
    "# --- API key ---\n",
    "if not os.environ.get(\"OPENAI_API_KEY\"):\n",
    "    print(\"Enter your OpenAI API key (input hidden):\")\n",
    "    os.environ[\"OPENAI_API_KEY\"] = getpass.getpass()\n",
    "\n",
    "# --- Model name (change as desired) ---\n",
    "MODEL_NAME = \"gpt-5\"\n",
    "\n",
    "# --- Safe chat helper (temperature optional) ---\n",
    "def run_chat(system, user, model=MODEL_NAME, temperature=None):\n",
    "    messages = [\n",
    "        {\"role\": \"system\", \"content\": system},\n",
    "        {\"role\": \"user\", \"content\": user},\n",
    "    ]\n",
    "    # Prefer new SDK if available\n",
    "    try:\n",
    "        from openai import OpenAI\n",
    "        client = OpenAI()\n",
    "        kwargs = {\"model\": model, \"messages\": messages}\n",
    "        if temperature is not None:\n",
    "            kwargs[\"temperature\"] = temperature\n",
    "        resp = client.chat.completions.create(**kwargs)\n",
    "        return resp.choices[0].message.content\n",
    "    except Exception:\n",
    "        # Legacy fallback\n",
    "        import openai\n",
    "        openai.api_key = os.environ[\"OPENAI_API_KEY\"]\n",
    "        kwargs = {\"model\": model, \"messages\": messages}\n",
    "        if temperature is not None:\n",
    "            kwargs[\"temperature\"] = temperature\n",
    "        resp = openai.ChatCompletion.create(**kwargs)\n",
    "        return resp[\"choices\"][0][\"message\"][\"content\"]\n",
    "\n",
    "# Simple in-memory history\n",
    "SESSION_HISTORY = []\n",
    "def log_exchange(system, user, response):\n",
    "    SESSION_HISTORY.append({\n",
    "        \"ts\": datetime.datetime.utcnow().isoformat()+\"Z\",\n",
    "        \"system\": system,\n",
    "        \"user\": user,\n",
    "        \"response\": response\n",
    "    })\n"
   ]
  },
  {
   "cell_type": "markdown",
   "id": "47e47cdc",
   "metadata": {},
   "source": [
    "## 1) Warm‑up: Bad vs Good Prompt\n",
    "**Bad:** `Explain John 3:16.`  \n",
    "**Good:** add **role**, **context**, **format**, **citations**."
   ]
  },
  {
   "cell_type": "code",
   "execution_count": null,
   "id": "b27a26ca",
   "metadata": {},
   "outputs": [],
   "source": [
    "bad_prompt = \"Explain John 3:16.\"\n",
    "good_prompt = (\n",
    "    \"You are a Bible teacher for a 10-year-old. \"\n",
    "    \"Explain John 3:16 in simple words. Then give 3 cross-references and 2 application ideas. \"\n",
    "    \"Return as: 1) 3-sentence explanation 2) Cross-refs (with verse text) 3) Applications (bullets).\"\n",
    ")\n",
    "\n",
    "print(\"▶ Bad prompt result:\\n\")\n",
    "_resp = run_chat(\"You explain Scripture clearly.\", bad_prompt))\n",
    "print(_resp)\n",
    "log_exchange(system, user, _resp)\n",
    "\n",
    "print(\"\\n\\n▶ Good prompt result:\\n\")\n",
    "_resp = run_chat(\"You explain Scripture clearly and faithfully with citations.\", good_prompt))\n",
    "print(_resp)\n",
    "log_exchange(system, user, _resp)"
   ]
  },
  {
   "cell_type": "markdown",
   "id": "56f08ab1",
   "metadata": {},
   "source": [
    "# 2) Lesson Modules\n",
    "Each lesson shows: **Example Prompt**, **Why it works**, and a **Practice** cell."
   ]
  },
  {
   "cell_type": "markdown",
   "id": "6ec6d769",
   "metadata": {},
   "source": [
    "## Lesson 1 — Role Prompting (Persona & Audience)\n",
    "**Passage:** John 3:16  \n",
    "**Why it works:** Assigning a role and audience reduces ambiguity and aligns tone/depth.\n",
    "**Example Prompt:**\n",
    "> You are a Bible scholar who explains Scripture to new believers. Explain John 3:16 like I'm new to the faith. Include brief background about the Gospel of John and finish with a 3‑bullet prayer guide."
   ]
  },
  {
   "cell_type": "code",
   "execution_count": null,
   "id": "b9a2b011",
   "metadata": {},
   "outputs": [],
   "source": [
    "system = \"You are a faithful, clear Bible teacher. Always cite passages you reference. (NIV)\"\n",
    "user = (\"You are a Bible scholar who explains Scripture to new believers. \"\n",
    "        \"Explain John 3:16 like I'm new to the faith. Include brief background about the Gospel of John \"\n",
    "        \"and finish with a 3‑bullet prayer guide.\")\n",
    "_resp = run_chat(system, user))\n",
    "print(_resp)\n",
    "log_exchange(system, user, _resp)"
   ]
  },
  {
   "cell_type": "markdown",
   "id": "25b68e74",
   "metadata": {},
   "source": [
    "**Practice (edit & run):**"
   ]
  },
  {
   "cell_type": "code",
   "execution_count": null,
   "id": "62323809",
   "metadata": {},
   "outputs": [],
   "source": [
    "practice_prompt = \"Explain John 3:16 to a teenager who is curious about God's love. End with a one-sentence prayer.\"\n",
    "_resp = run_chat(system, practice_prompt))\n",
    "print(_resp)\n",
    "log_exchange(system, user, _resp)"
   ]
  },
  {
   "cell_type": "markdown",
   "id": "3053b12f",
   "metadata": {},
   "source": [
    "## Lesson 2 — Contextual Prompting (Background Matters)\n",
    "**Passage:** Psalm 23  \n",
    "**Why it works:** Context invites grounded explanations instead of vague summaries.\n",
    "**Example Prompt:**\n",
    "> Explain Psalm 23 using shepherding practices in ancient Israel. Highlight why \"rod and staff\" comfort, and connect to God's guidance today."
   ]
  },
  {
   "cell_type": "code",
   "execution_count": null,
   "id": "9c21dbf5",
   "metadata": {},
   "outputs": [],
   "source": [
    "user = ('Explain Psalm 23 using shepherding practices in ancient Israel. '\n",
    "        'Highlight why \"rod and staff\" comfort, and connect to God\\'s guidance today.')\n",
    "_resp = run_chat(system, user))\n",
    "print(_resp)\n",
    "log_exchange(system, user, _resp)"
   ]
  },
  {
   "cell_type": "markdown",
   "id": "166b6b15",
   "metadata": {},
   "source": [
    "**Practice:**"
   ]
  },
  {
   "cell_type": "code",
   "execution_count": null,
   "id": "a13a561f",
   "metadata": {},
   "outputs": [],
   "source": [
    "practice_prompt = \"Explain Psalm 23 with emphasis on 'green pastures' and 'still waters' as metaphors for spiritual restoration.\"\n",
    "_resp = run_chat(system, practice_prompt))\n",
    "print(_resp)\n",
    "log_exchange(system, user, _resp)"
   ]
  },
  {
   "cell_type": "markdown",
   "id": "720c51ec",
   "metadata": {},
   "source": [
    "## Lesson 3 — Stepwise Reasoning (Show the Logic)\n",
    "**Passage:** Romans 5:1–5  \n",
    "**Why it works:** Asking for steps yields a logical chain instead of a paraphrase.\n",
    "**Example Prompt:**\n",
    "> Walk step-by-step through Romans 5:1–5 showing how faith → justification → peace → perseverance → character → hope."
   ]
  },
  {
   "cell_type": "code",
   "execution_count": null,
   "id": "5c74753e",
   "metadata": {},
   "outputs": [],
   "source": [
    "user = (\"Walk step-by-step through Romans 5:1–5 showing how faith → justification → peace \"\n",
    "        \"→ perseverance → character → hope. Return numbered steps with short citations.\")\n",
    "_resp = run_chat(system, user))\n",
    "print(_resp)\n",
    "log_exchange(system, user, _resp)"
   ]
  },
  {
   "cell_type": "markdown",
   "id": "92e1a23f",
   "metadata": {},
   "source": [
    "**Practice:**"
   ]
  },
  {
   "cell_type": "code",
   "execution_count": null,
   "id": "a8ccd2a9",
   "metadata": {},
   "outputs": [],
   "source": [
    "practice_prompt = \"Trace Romans 5:1–5 in 5 compact bullets, each with one cross-reference from Romans.\"\n",
    "_resp = run_chat(system, practice_prompt))\n",
    "print(_resp)\n",
    "log_exchange(system, user, _resp)"
   ]
  },
  {
   "cell_type": "markdown",
   "id": "ea2fc607",
   "metadata": {},
   "source": [
    "## Lesson 4 — Comparative Prompting (Synthesize Passages)\n",
    "**Passages:** Ephesians 2:8–9 & James 2:17  \n",
    "**Why it works:** Comparison prompts produce synthesis across books/authors.\n",
    "**Example Prompt:**\n",
    "> Compare Ephesians 2:8–9 with James 2:17. Show how grace and works relate. Provide a 2‑column table: \"Emphasis\" and \"Key Verse Lines\"."
   ]
  },
  {
   "cell_type": "code",
   "execution_count": null,
   "id": "5b5eedad",
   "metadata": {},
   "outputs": [],
   "source": [
    "user = ('Compare Ephesians 2:8–9 with James 2:17. Show how grace and works relate. '\n",
    "        'Provide a 2-column table: Emphasis | Key Verse Lines.')\n",
    "_resp = run_chat(system, user))\n",
    "print(_resp)\n",
    "log_exchange(system, user, _resp)"
   ]
  },
  {
   "cell_type": "markdown",
   "id": "0c164dbe",
   "metadata": {},
   "source": [
    "**Practice:**"
   ]
  },
  {
   "cell_type": "code",
   "execution_count": null,
   "id": "9ce9a738",
   "metadata": {},
   "outputs": [],
   "source": [
    "practice_prompt = \"Compare Romans 3:28 and James 2:24 in 5 bullets. End with a unifying summary.\"\n",
    "_resp = run_chat(system, practice_prompt))\n",
    "print(_resp)\n",
    "log_exchange(system, user, _resp)"
   ]
  },
  {
   "cell_type": "markdown",
   "id": "41da0c6c",
   "metadata": {},
   "source": [
    "## Lesson 5 — Socratic Prompting (Guided Discovery)\n",
    "**Passage:** Matthew 5–7 (Sermon on the Mount)  \n",
    "**Why it works:** Socratic prompts turn passive reading into reflective engagement.\n",
    "**Example Prompt:**\n",
    "> Ask me 6 Socratic questions to help me uncover the core message of the Sermon on the Mount. Finish with 2 reflection prompts for this week."
   ]
  },
  {
   "cell_type": "code",
   "execution_count": null,
   "id": "8c6a3591",
   "metadata": {},
   "outputs": [],
   "source": [
    "user = (\"Ask me 6 Socratic questions to uncover the core message of the Sermon on the Mount, \"\n",
    "        \"then give 2 reflection prompts for this week.\")\n",
    "_resp = run_chat(system, user))\n",
    "print(_resp)\n",
    "log_exchange(system, user, _resp)"
   ]
  },
  {
   "cell_type": "markdown",
   "id": "3610ba5d",
   "metadata": {},
   "source": [
    "**Practice:**"
   ]
  },
  {
   "cell_type": "code",
   "execution_count": null,
   "id": "c9291e10",
   "metadata": {},
   "outputs": [],
   "source": [
    "practice_prompt = \"Ask me 5 questions that reveal my assumptions about Jesus' teaching on anger and reconciliation (Matthew 5:21–26).\"\n",
    "_resp = run_chat(system, practice_prompt))\n",
    "print(_resp)\n",
    "log_exchange(system, user, _resp)"
   ]
  },
  {
   "cell_type": "markdown",
   "id": "05b0565a",
   "metadata": {},
   "source": [
    "## Lesson 6 — Format Prompting (Deliverables on Demand)\n",
    "**Topic:** Forgiveness  \n",
    "**Why it works:** Clear output formats make results reusable (handouts, lessons, etc.).\n",
    "**Example Prompt:**\n",
    "> Create a 5-day reading plan on forgiveness: each day include passage, 3-sentence devotional, 2 reflection questions, and a short prayer."
   ]
  },
  {
   "cell_type": "code",
   "execution_count": null,
   "id": "4e061923",
   "metadata": {},
   "outputs": [],
   "source": [
    "user = (\"Create a 5-day reading plan on forgiveness. \"\n",
    "        \"Each day: passage, 3-sentence devotional, 2 reflection questions, and a short prayer.\")\n",
    "_resp = run_chat(system, user))\n",
    "print(_resp)\n",
    "log_exchange(system, user, _resp)"
   ]
  },
  {
   "cell_type": "markdown",
   "id": "1d98e94f",
   "metadata": {},
   "source": [
    "**Practice:**"
   ]
  },
  {
   "cell_type": "code",
   "execution_count": null,
   "id": "5769e57f",
   "metadata": {},
   "outputs": [],
   "source": [
    "practice_prompt = \"Create a 3-day plan on generosity with passages, a key idea, and one practice step per day.\"\n",
    "_resp = run_chat(system, practice_prompt))\n",
    "print(_resp)\n",
    "log_exchange(system, user, _resp)"
   ]
  },
  {
   "cell_type": "markdown",
   "id": "87b6e9c2",
   "metadata": {},
   "source": [
    "## Lesson 7 — Summarize & Apply (From Knowledge to Practice)\n",
    "**Passage:** Book of Philippians  \n",
    "**Why it works:** Combining summary + application moves learning toward transformation.\n",
    "**Example Prompt:**\n",
    "> Summarize Philippians in 5 sentences, then list 3 practical ways to live it out this week."
   ]
  },
  {
   "cell_type": "code",
   "execution_count": null,
   "id": "1b67a715",
   "metadata": {},
   "outputs": [],
   "source": [
    "user = \"Summarize Philippians in 5 sentences, then list 3 practical ways to live it out this week.\"\n",
    "_resp = run_chat(system, user))\n",
    "print(_resp)\n",
    "log_exchange(system, user, _resp)"
   ]
  },
  {
   "cell_type": "markdown",
   "id": "5be7af3a",
   "metadata": {},
   "source": [
    "**Practice:**"
   ]
  },
  {
   "cell_type": "code",
   "execution_count": null,
   "id": "49daa520",
   "metadata": {},
   "outputs": [],
   "source": [
    "practice_prompt = \"Summarize 1 Peter in 5 bullets and provide 3 practices for facing trials with hope.\"\n",
    "_resp = run_chat(system, practice_prompt))\n",
    "print(_resp)\n",
    "log_exchange(system, user, _resp)"
   ]
  },
  {
   "cell_type": "markdown",
   "id": "73f18532",
   "metadata": {},
   "source": [
    "# 3) Advanced Bible Study Prompts (Templates)\n",
    "Copy, tweak, and run these with your own passages/topics."
   ]
  },
  {
   "cell_type": "code",
   "execution_count": null,
   "id": "1c065bfa",
   "metadata": {},
   "outputs": [],
   "source": [
    "ADVANCED_PROMPTS = {\n",
    "    \"Word Study (Hebrew/Greek)\": (\n",
    "        \"Perform a word study on the term 'hesed' (חֶסֶד). \"\n",
    "        \"Define the range of meaning, cite key occurrences with references/snippets, \"\n",
    "        \"and finish with a 3-bullet devotional application.\"\n",
    "    ),\n",
    "    \"Cross-Book Theme\": (\n",
    "        \"Trace the theme of 'covenant' from Genesis to Jeremiah to Luke. \"\n",
    "        \"Provide 7 key passages with one-sentence summaries and a final synthesis.\"\n",
    "    ),\n",
    "    \"Devotional Builder\": (\n",
    "        \"Write a 400-word devotional on 'abiding in Christ' (John 15:1–11). \"\n",
    "        \"Include an opening illustration, verse-by-verse insight, and a closing prayer.\"\n",
    "    ),\n",
    "    \"Bible Quiz Generator\": (\n",
    "        \"Generate 10 multiple-choice questions about Acts 1–12, with answers and one-line explanations.\"\n",
    "    ),\n",
    "}\n",
    "list(ADVANCED_PROMPTS.keys())"
   ]
  },
  {
   "cell_type": "code",
   "execution_count": null,
   "id": "d111bb51",
   "metadata": {},
   "outputs": [],
   "source": [
    "template_name = \"Word Study (Hebrew/Greek)\"  # <- change\n",
    "prompt = ADVANCED_PROMPTS[template_name]\n",
    "_resp = run_chat(\"You are a careful biblical studies assistant who cites references faithfully.\", prompt))\n",
    "print(_resp)\n",
    "log_exchange(system, user, _resp)"
   ]
  },
  {
   "cell_type": "markdown",
   "id": "ad16abb7",
   "metadata": {},
   "source": [
    "# 4) Interactive Practice\n",
    "Paste a passage/topic and pick a technique. (Edit variables and run.)"
   ]
  },
  {
   "cell_type": "code",
   "execution_count": null,
   "id": "9cfd4289",
   "metadata": {},
   "outputs": [],
   "source": [
    "TECHNIQUES = {\n",
    "    \"Explain Simply\": \"Explain {passage} for a new believer in 5 sentences with one application.\",\n",
    "    \"Contextual\": \"Explain {passage} with historical/cultural background and 3 cross-references.\",\n",
    "    \"Stepwise\": \"Walk step-by-step through the logic of {passage}, numbering each step.\",\n",
    "    \"Compare Passages\": \"Compare {passage} with {other} in a 2-column table (Emphasis | Supporting Lines).\",\n",
    "    \"Socratic\": \"Ask me 6 guiding questions to understand {passage}, then give 2 reflection prompts.\",\n",
    "    \"Devotional\": \"Create a short devotional on {passage}: key idea, 3 insights with citations, 2 questions, short prayer.\",\n",
    "    \"Summary & Application\": \"Summarize {passage} in 5 bullets, then give 3 applications.\",\n",
    "}\n",
    "\n",
    "passage = \"Romans 8:31–39\"   # <- edit\n",
    "other = \"Psalm 23\"           # <- only used for 'Compare Passages'\n",
    "choice = \"Explain Simply\"    # <- pick a key from TECHNIQUES\n",
    "\n",
    "prompt = TECHNIQUES[choice].format(passage=passage, other=other)\n",
    "_resp = run_chat(\"Be accurate, pastoral, and concise. Always cite references that you quote.\", prompt))\n",
    "print(_resp)\n",
    "log_exchange(system, user, _resp)"
   ]
  },
  {
   "cell_type": "markdown",
   "id": "fa383f4f",
   "metadata": {},
   "source": [
    "# 5) Export Notes\n",
    "Save your session history (prompts + responses) for later review/sharing."
   ]
  },
  {
   "cell_type": "code",
   "execution_count": null,
   "id": "ea714571",
   "metadata": {},
   "outputs": [],
   "source": [
    "import json, pathlib, datetime\n",
    "export_dir = pathlib.Path(\"bible_ai_exports\")\n",
    "export_dir.mkdir(exist_ok=True)\n",
    "ts = datetime.datetime.utcnow().strftime(\"%Y%m%d-%H%M%SZ\")\n",
    "\n",
    "json_path = export_dir / f\"session_{ts}.json\"\n",
    "with open(json_path, \"w\", encoding=\"utf-8\") as f:\n",
    "    json.dump(SESSION_HISTORY, f, ensure_ascii=False, indent=2)\n",
    "\n",
    "md_path = export_dir / f\"session_{ts}.md\"\n",
    "with open(md_path, \"w\", encoding=\"utf-8\") as f:\n",
    "    for i, item in enumerate(SESSION_HISTORY, 1):\n",
    "        f.write(f\"## Exchange {i} — {item['ts']}\\n\\n\")\n",
    "        f.write(\"**System**\\n\\n````\\n\" + item[\"system\"] + \"\\n````\\n\\n\")\n",
    "        f.write(\"**User**\\n\\n````\\n\" + item[\"user\"] + \"\\n````\\n\\n\")\n",
    "        f.write(\"**AI Response**\\n\\n\" + item[\"response\"] + \"\\n\\n---\\n\\n\")\n",
    "print(\"Saved:\", json_path, \"and\", md_path)"
   ]
  },
  {
   "cell_type": "markdown",
   "id": "50424aa4",
   "metadata": {},
   "source": [
    "# 6) Bible AI Prompt Library (Copy/Paste)\n",
    "Handy starters to adapt."
   ]
  },
  {
   "cell_type": "code",
   "execution_count": null,
   "id": "4c8c9a71",
   "metadata": {},
   "outputs": [],
   "source": [
    "\n",
    "PROMPT_LIBRARY = {\n",
    "    \"Deep Dive Study\": [\n",
    "        \"Do a Greek word study on {word}, including definition, frequency, and 5 example verses with context (NIV).\",\n",
    "        \"Trace the theme of {theme} from Genesis to Revelation with 10 key passages and summaries.\",\n",
    "        \"Provide verse-by-verse commentary on {passage}, with historical notes.\"\n",
    "    ],\n",
    "    \"Life Application\": [\n",
    "        \"Explain how {passage} applies to daily work life, with 3 modern examples.\",\n",
    "        \"Create a 5-day challenge to live out {passage}.\",\n",
    "        \"Give 3 practical ways to apply {passage} in relationships.\"\n",
    "    ],\n",
    "    \"Creative Engagement\": [\n",
    "        \"Retell {passage} as a parable for children, under 200 words.\",\n",
    "        \"Write a short worship song lyric inspired by {passage}.\",\n",
    "        \"Create a dialogue between two Biblical characters discussing {passage}.\"\n",
    "    ],\n",
    "    \"Teaching & Small Group\": [\n",
    "        \"Create 6 discussion questions on {passage}, moving from easy observation to deep reflection.\",\n",
    "        \"Make a sermon outline for {passage}, including title, 3 main points, and application.\",\n",
    "        \"Generate 10 trivia questions on {passage} for youth group.\"\n",
    "    ],\n",
    "    \"Historical & Apologetics\": [\n",
    "        \"Provide historical background for {passage} with supporting sources.\",\n",
    "        \"Compare NIV translation of {passage} with its Greek/Hebrew text meaning.\",\n",
    "        \"Explain archaeological evidence that supports events in {passage}.\"\n",
    "    ]\n",
    "}\n",
    "\n",
    "# Example usage\n",
    "category = \"Life Application\"  # <- change\n",
    "prompt_template = PROMPT_LIBRARY[category][0]  # Pick first in category\n",
    "prompt_filled = prompt_template.format(passage=\"Romans 8:31–39\", word=\"agape\", theme=\"grace\")\n",
    "_resp = run_chat(\"Be accurate, pastoral, and concise, using NIV wording where possible.\", prompt_filled))\n",
    "print(_resp)\n",
    "log_exchange(system, user, _resp)"
   ]
  },
  {
   "cell_type": "markdown",
   "id": "817009ad",
   "metadata": {},
   "source": [
    "---\n",
    "### 🙏 Final Note\n",
    "Use AI as a **study companion**, not a replacement for prayer, wise counsel, and careful reading.  \n",
    "Always compare outputs with Scripture itself."
   ]
  }
 ],
 "metadata": {},
 "nbformat": 4,
 "nbformat_minor": 5
}
